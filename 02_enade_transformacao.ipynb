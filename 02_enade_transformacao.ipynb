{
 "metadata": {
  "language_info": {
   "codemirror_mode": {
    "name": "ipython",
    "version": 3
   },
   "file_extension": ".py",
   "mimetype": "text/x-python",
   "name": "python",
   "nbconvert_exporter": "python",
   "pygments_lexer": "ipython3",
   "version": "3.8.5-final"
  },
  "orig_nbformat": 2,
  "kernelspec": {
   "name": "python3",
   "display_name": "Python 3.8.5 64-bit (conda)",
   "metadata": {
    "interpreter": {
     "hash": "e88300c1fa57b962949b69acfbe36fec17d5e3a7b95aedf957d03d27c5ddf87a"
    }
   }
  }
 },
 "nbformat": 4,
 "nbformat_minor": 2,
 "cells": [
  {
   "source": [
    "# Enade - Transofrmação de Dados - Parte 01"
   ],
   "cell_type": "markdown",
   "metadata": {}
  },
  {
   "cell_type": "code",
   "execution_count": 1,
   "metadata": {},
   "outputs": [],
   "source": [
    "# Importação das Bibliotecas\n",
    "\n",
    "import pandas as pd\n",
    "import numpy as np\n",
    "import os"
   ]
  },
  {
   "cell_type": "code",
   "execution_count": 2,
   "metadata": {},
   "outputs": [],
   "source": [
    "# Importação dos dados extraido na aula anterior\n",
    "# Leitura do arquivo csv\n",
    "enade = pd.read_csv(\"./enade2019/2019/3.DADOS/microdados_enade_2019.txt\",sep = \";\", decimal=\",\")"
   ]
  },
  {
   "cell_type": "code",
   "execution_count": 3,
   "metadata": {},
   "outputs": [
    {
     "output_type": "execute_result",
     "data": {
      "text/plain": [
       "   NU_ANO  CO_IES  CO_CATEGAD  CO_ORGACAD  CO_GRUPO  CO_CURSO  CO_MODALIDADE  \\\n",
       "0    2019       1       10002       10028      5710         3              1   \n",
       "1    2019       1       10002       10028      5710         3              1   \n",
       "2    2019       1       10002       10028      5710         3              1   \n",
       "3    2019       1       10002       10028      5710         3              1   \n",
       "4    2019       1       10002       10028      5710         3              1   \n",
       "\n",
       "   CO_MUNIC_CURSO  CO_UF_CURSO  CO_REGIAO_CURSO  ...  QE_I59 QE_I60  QE_I61  \\\n",
       "0         5103403           51                5  ...     2.0    5.0     1.0   \n",
       "1         5103403           51                5  ...     1.0    4.0     2.0   \n",
       "2         5103403           51                5  ...     3.0    4.0     4.0   \n",
       "3         5103403           51                5  ...     3.0    5.0     2.0   \n",
       "4         5103403           51                5  ...     NaN    NaN     NaN   \n",
       "\n",
       "   QE_I62  QE_I63  QE_I64  QE_I65  QE_I66  QE_I67  QE_I68  \n",
       "0     1.0     2.0     5.0     8.0     7.0     1.0     2.0  \n",
       "1     2.0     2.0     5.0     4.0     4.0     2.0     2.0  \n",
       "2     3.0     3.0     4.0     1.0     1.0     1.0     4.0  \n",
       "3     2.0     2.0     3.0     3.0     4.0     3.0     3.0  \n",
       "4     NaN     NaN     NaN     NaN     NaN     NaN     NaN  \n",
       "\n",
       "[5 rows x 137 columns]"
      ],
      "text/html": "<div>\n<style scoped>\n    .dataframe tbody tr th:only-of-type {\n        vertical-align: middle;\n    }\n\n    .dataframe tbody tr th {\n        vertical-align: top;\n    }\n\n    .dataframe thead th {\n        text-align: right;\n    }\n</style>\n<table border=\"1\" class=\"dataframe\">\n  <thead>\n    <tr style=\"text-align: right;\">\n      <th></th>\n      <th>NU_ANO</th>\n      <th>CO_IES</th>\n      <th>CO_CATEGAD</th>\n      <th>CO_ORGACAD</th>\n      <th>CO_GRUPO</th>\n      <th>CO_CURSO</th>\n      <th>CO_MODALIDADE</th>\n      <th>CO_MUNIC_CURSO</th>\n      <th>CO_UF_CURSO</th>\n      <th>CO_REGIAO_CURSO</th>\n      <th>...</th>\n      <th>QE_I59</th>\n      <th>QE_I60</th>\n      <th>QE_I61</th>\n      <th>QE_I62</th>\n      <th>QE_I63</th>\n      <th>QE_I64</th>\n      <th>QE_I65</th>\n      <th>QE_I66</th>\n      <th>QE_I67</th>\n      <th>QE_I68</th>\n    </tr>\n  </thead>\n  <tbody>\n    <tr>\n      <th>0</th>\n      <td>2019</td>\n      <td>1</td>\n      <td>10002</td>\n      <td>10028</td>\n      <td>5710</td>\n      <td>3</td>\n      <td>1</td>\n      <td>5103403</td>\n      <td>51</td>\n      <td>5</td>\n      <td>...</td>\n      <td>2.0</td>\n      <td>5.0</td>\n      <td>1.0</td>\n      <td>1.0</td>\n      <td>2.0</td>\n      <td>5.0</td>\n      <td>8.0</td>\n      <td>7.0</td>\n      <td>1.0</td>\n      <td>2.0</td>\n    </tr>\n    <tr>\n      <th>1</th>\n      <td>2019</td>\n      <td>1</td>\n      <td>10002</td>\n      <td>10028</td>\n      <td>5710</td>\n      <td>3</td>\n      <td>1</td>\n      <td>5103403</td>\n      <td>51</td>\n      <td>5</td>\n      <td>...</td>\n      <td>1.0</td>\n      <td>4.0</td>\n      <td>2.0</td>\n      <td>2.0</td>\n      <td>2.0</td>\n      <td>5.0</td>\n      <td>4.0</td>\n      <td>4.0</td>\n      <td>2.0</td>\n      <td>2.0</td>\n    </tr>\n    <tr>\n      <th>2</th>\n      <td>2019</td>\n      <td>1</td>\n      <td>10002</td>\n      <td>10028</td>\n      <td>5710</td>\n      <td>3</td>\n      <td>1</td>\n      <td>5103403</td>\n      <td>51</td>\n      <td>5</td>\n      <td>...</td>\n      <td>3.0</td>\n      <td>4.0</td>\n      <td>4.0</td>\n      <td>3.0</td>\n      <td>3.0</td>\n      <td>4.0</td>\n      <td>1.0</td>\n      <td>1.0</td>\n      <td>1.0</td>\n      <td>4.0</td>\n    </tr>\n    <tr>\n      <th>3</th>\n      <td>2019</td>\n      <td>1</td>\n      <td>10002</td>\n      <td>10028</td>\n      <td>5710</td>\n      <td>3</td>\n      <td>1</td>\n      <td>5103403</td>\n      <td>51</td>\n      <td>5</td>\n      <td>...</td>\n      <td>3.0</td>\n      <td>5.0</td>\n      <td>2.0</td>\n      <td>2.0</td>\n      <td>2.0</td>\n      <td>3.0</td>\n      <td>3.0</td>\n      <td>4.0</td>\n      <td>3.0</td>\n      <td>3.0</td>\n    </tr>\n    <tr>\n      <th>4</th>\n      <td>2019</td>\n      <td>1</td>\n      <td>10002</td>\n      <td>10028</td>\n      <td>5710</td>\n      <td>3</td>\n      <td>1</td>\n      <td>5103403</td>\n      <td>51</td>\n      <td>5</td>\n      <td>...</td>\n      <td>NaN</td>\n      <td>NaN</td>\n      <td>NaN</td>\n      <td>NaN</td>\n      <td>NaN</td>\n      <td>NaN</td>\n      <td>NaN</td>\n      <td>NaN</td>\n      <td>NaN</td>\n      <td>NaN</td>\n    </tr>\n  </tbody>\n</table>\n<p>5 rows × 137 columns</p>\n</div>"
     },
     "metadata": {},
     "execution_count": 3
    }
   ],
   "source": [
    "enade.head()"
   ]
  },
  {
   "source": [
    "- CO_IES\n",
    "- CO_CATEGAD\n",
    "- CO_GRUPO\n",
    "- CO_MODALIDADE\n",
    "- CO_UF_CURSO\n",
    "- CO_REGIAO_CURSO\n",
    "- NU_IDADE\n",
    "- TP_SEXO\n",
    "- NT_GER\n",
    "- NT_FG\n",
    "- NT_ CE\n",
    "\n",
    "Outros dados\n",
    "- 01: Estado Civil\n",
    "- 02: Cor ou raça\n",
    "- 04: Escolaridade do Pai\n",
    "- 05: Escolaridade da Mãe\n",
    "- 08: Renda Familiar\n",
    "- 10: Situação de Trabalho\n",
    "- 11: Situação da Bolsa\n",
    "- 14: Intercâmbio\n",
    "- 15: Cotas\n",
    "- 23: Horas de Estudo / Semana\n",
    "- 25: Motivo de escolha do curso\n",
    "- 26: Motivo de escolha da IES (Instituição de Ensino Superior)"
   ],
   "cell_type": "markdown",
   "metadata": {}
  },
  {
   "cell_type": "code",
   "execution_count": 5,
   "metadata": {},
   "outputs": [
    {
     "output_type": "execute_result",
     "data": {
      "text/plain": [
       "count    390091.000000\n",
       "mean         44.076610\n",
       "std          14.542059\n",
       "min           0.000000\n",
       "25%          33.200000\n",
       "50%          43.800000\n",
       "75%          54.800000\n",
       "max          93.000000\n",
       "Name: NT_GER, dtype: float64"
      ]
     },
     "metadata": {},
     "execution_count": 5
    }
   ],
   "source": [
    "# NT_GER Nota Geral\n",
    "enade.NT_GER.describe()"
   ]
  },
  {
   "cell_type": "code",
   "execution_count": 8,
   "metadata": {},
   "outputs": [
    {
     "output_type": "execute_result",
     "data": {
      "text/plain": [
       "43839"
      ]
     },
     "metadata": {},
     "execution_count": 8
    }
   ],
   "source": [
    "#Contagem de nota geral nula\n",
    "enade.NT_GER.isnull().sum()"
   ]
  },
  {
   "cell_type": "code",
   "execution_count": 10,
   "metadata": {},
   "outputs": [
    {
     "output_type": "execute_result",
     "data": {
      "text/plain": [
       "(433930, 137)"
      ]
     },
     "metadata": {},
     "execution_count": 10
    }
   ],
   "source": [
    "# Retorna uma Tupla com as dimensões de linhas e colunas do data frame\n",
    "# https://pandas.pydata.org/pandas-docs/stable/reference/api/pandas.DataFrame.shape.html\n",
    "enade.shape"
   ]
  },
  {
   "cell_type": "code",
   "execution_count": null,
   "metadata": {},
   "outputs": [],
   "source": [
    "# Quantidade relativa de nulos\n",
    "enade.NT_GER.isnull().sum() / enade.shape[0]"
   ]
  }
 ]
}