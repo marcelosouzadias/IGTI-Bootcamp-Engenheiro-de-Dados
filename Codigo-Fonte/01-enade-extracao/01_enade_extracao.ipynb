{
 "metadata": {
  "language_info": {
   "codemirror_mode": {
    "name": "ipython",
    "version": 3
   },
   "file_extension": ".py",
   "mimetype": "text/x-python",
   "name": "python",
   "nbconvert_exporter": "python",
   "pygments_lexer": "ipython3",
   "version": "3.8.5-final"
  },
  "orig_nbformat": 2,
  "kernelspec": {
   "name": "python3",
   "display_name": "Python 3.8.5 64-bit (conda)",
   "metadata": {
    "interpreter": {
     "hash": "e88300c1fa57b962949b69acfbe36fec17d5e3a7b95aedf957d03d27c5ddf87a"
    }
   }
  }
 },
 "nbformat": 4,
 "nbformat_minor": 2,
 "cells": [
  {
   "source": [
    "# Extração dos dados do Enade\n",
    "\n",
    "### Lind para importação dos dados: https://download.inep.gov.br/microdados/Enade_Microdados/microdados_enade_2019.zip\n"
   ],
   "cell_type": "markdown",
   "metadata": {}
  },
  {
   "cell_type": "code",
   "execution_count": 6,
   "metadata": {},
   "outputs": [],
   "source": [
    "import pandas as pd\n",
    "import numpy as np\n",
    "import zipfile\n",
    "import requests\n",
    "from io import BytesIO\n",
    "import os"
   ]
  },
  {
   "cell_type": "code",
   "execution_count": 7,
   "metadata": {},
   "outputs": [],
   "source": [
    "# Criação de um diretório para armazenar o conteúdo do ENADE\n",
    "\n",
    "os.makedirs('./enade2019', exist_ok=True)"
   ]
  },
  {
   "cell_type": "code",
   "execution_count": 8,
   "metadata": {},
   "outputs": [],
   "source": [
    "# Definição da Variavel com o link do Arquivo com os dados do Enade do ano de 2019\n",
    "url = 'https://download.inep.gov.br/microdados/Enade_Microdados/microdados_enade_2019.zip'\n",
    "\n",
    "# Metodo que realiza o Download via HTTP Request \n",
    "filebytes = BytesIO(requests.get(url).content)\n",
    "\n",
    "# Extração do Conteudo arquivo ZIP\n",
    "# Link da biblioteca ZipFile https://docs.python.org/3/library/zipfile.html\n",
    "myzip = zipfile.ZipFile(filebytes) #Criação do Objeto do tipo ZIP\n",
    "myzip.extractall(\"./enade2019\") # Extraindo os dados para a pasta criada"
   ]
  },
  {
   "cell_type": "code",
   "execution_count": null,
   "metadata": {},
   "outputs": [],
   "source": []
  }
 ]
}